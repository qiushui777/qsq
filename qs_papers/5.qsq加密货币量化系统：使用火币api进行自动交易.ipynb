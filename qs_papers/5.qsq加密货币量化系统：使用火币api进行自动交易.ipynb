{
 "cells": [
  {
   "cell_type": "markdown",
   "metadata": {},
   "source": [
    "<h2>前言</h2>"
   ]
  },
  {
   "cell_type": "markdown",
   "metadata": {},
   "source": [
    "在先前的几篇文章中我在自己的量化框架中实现了几种策略，但是这些策略并没有经过实战的检验。而想要通过自动交易来参与实战，首先我就得在我的框架中加入api接口，连入交易所进行交易。所以，这里我在qsq中加入了火币的api，并且通过过程的截图给大家演示如何自动化交易。"
   ]
  },
  {
   "cell_type": "markdown",
   "metadata": {},
   "source": [
    "<h2>项目地址</h2>\n",
    "https://github.com/qiushui777/qsq\n",
    "\n",
    "本文位于qs_papers目录下，建议使用jupter notebook打开学习。"
   ]
  },
  {
   "cell_type": "markdown",
   "metadata": {},
   "source": [
    "<h2>火币接口</h2>\n",
    "实现火币接口的过程中，我使用了火币的python SDK，所以使用者需要在这个github地址安装sdk。<br>\n",
    "https://github.com/HuobiRDCenter/huobi_Python<br>\n",
    "同时我也参考了火币api文档。<br>\n",
    "huobiapi.github.io/docs/spot/v1/cn/<br>\n",
    "最终在qsq/ThirdptQs中添加了QsHuobi类，关键的几个函数如下。"
   ]
  },
  {
   "cell_type": "markdown",
   "metadata": {},
   "source": [
    "```python \n",
    "from ..CoreQs import QsEnv\n",
    "\n",
    "from huobi import RequestClient, SubscriptionClient\n",
    "from huobi.base.printobject import PrintMix\n",
    "from huobi.model import *\n",
    "from configparser import ConfigParser\n",
    "\n",
    "class QsHuobi(object):\n",
    "    \"\"\"\n",
    "    qsq系统提供的火币接口，可通过此接口获取数据和交易等\n",
    "    要想进行交易，必须在qs/config/config.ini中设置好自己的火币api密钥\n",
    "    \"\"\"\n",
    "    def get_24h_trade_statistics(self, pair=\"btcusdt\"):\n",
    "        \"\"\"\n",
    "        param: pair 想要获取的交易对，默认为btcusdt\n",
    "\n",
    "        获取24小时的市场数据，返回结构体成员包括有\n",
    "        timestamp, high, low, open, close, volume\n",
    "        可使用trade_statistics.high这样的方式获取对应数据\n",
    "        \"\"\"\n",
    "\n",
    "\n",
    "    def get_latest_candlestick(self, pair=\"btcusdt\", interval=CandlestickInterval.MIN1, size=10):\n",
    "        \"\"\"\n",
    "        param: pair 想要获取的交易对，默认为btcusdt\n",
    "        param: interval 时间间隔，默认为MIN1, 可选有MIN1 MIN5 MIN15 MIN30 MIN60 DAY1 MON1 WEEK1 YEAR1 \n",
    "        param: size 获取的数据条数，默认为10,选择范围为[1,2000]\n",
    "\n",
    "        获取最近一段时间的K线数据，返回一个list，这个list的每一项的结构体成员包括有\n",
    "        timestamp, high, low, open, close, volume\n",
    "        可使用member.high这样的方式获取对应数据\n",
    "        \"\"\"\n",
    "\n",
    "\n",
    "    def get_exchange_currencies(self):\n",
    "        \"\"\"\n",
    "        获取火币所有交易币种\n",
    "        \"\"\"\n",
    "\n",
    "\n",
    "    def get_exchange_info(self):\n",
    "        \"\"\"\n",
    "        获取交易所信息，返回交易对和支持币种，使用案例\n",
    "        for symbol in exchange_info.symbol_list:\n",
    "            print(symbol.symbol)\n",
    "    \n",
    "        for currency in exchange_info.currencies:\n",
    "            print(currency)\n",
    "        \"\"\"\n",
    "\n",
    "\n",
    "    def get_fee_rate(self, symbol=\"btcusdt\"):\n",
    "        \"\"\"\n",
    "        获取交易手续费，返回一个FeeRate对象，成员包括\n",
    "        symbol 对应币种 maker_fee 卖方手续费 taker_fee 买方手续费\n",
    "        实际使用中，symbol也为一个费率\n",
    "        \"\"\"\n",
    "\n",
    "    def get_historical_orders(self, symbol=\"ethusdt\", order_state=OrderState.CANCELED, order_type=None, start_date=None, end_date=None, start_id=None, size=None):\n",
    "        \"\"\"\n",
    "        param: symbol 符号(必须)\n",
    "        param: order_state 订单状态(必须)，可选参数有SUBMITTED PARTIAL_FILLED CANCELLING PARTIAL_CANCELED FILLED CANCELED INVALID\n",
    "        param: order_type 订单类型(可选)，可选参数有SELL_LIMIT BUY_LIMIT BUY_MARKET SELL_MARKET BUY_IOC SELL_IOC BUY_LIMIT_MAKER SELL_LIMIT_MAKER BUY_STOP_LIMIT SELL_STOP_LIMIT INVALID \n",
    "        param: start_date 开始日期(可选) 格式为 yyyy-mm-dd\n",
    "        param: end_date 结束日期(可选) 格式为 yyyy-mm-dd\n",
    "        param: start_id(可选) 订单起始id，暂时忽略\n",
    "        param: size(可选) 大小，暂时忽略\n",
    "        \n",
    "        获取历史订单\n",
    "        \"\"\"\n",
    "\n",
    "    def get_historical_trade(self, symbol=\"btcusdt\", size=5):\n",
    "        \"\"\"\n",
    "        param: symbol 符号(必须)\n",
    "        param: size 交易列表的大小(必须)\n",
    "        获取历史交易数据，返回trade_list对象列表，每个对象有如下几个成员\n",
    "        timestamp trade_id price amount direction\n",
    "        \"\"\"\n",
    "\n",
    "    def get_market_trade(self,symbol=\"btcusdt\"):\n",
    "        \"\"\"\n",
    "        param: symbol 符号，默认为btcusdt\n",
    "        获取当前市场上的交易，返回一个trade对象组成的tradelist列表，每个trade对象的成员有\n",
    "        price, amount, trade_id timestamp, direction\n",
    "        \"\"\"\n",
    "\n",
    "    def get_open_orders(self,symbol=\"htusdt\", account_type=AccountType.SPOT, direct=\"next\"):\n",
    "        \"\"\"\n",
    "        获取自己账户当前开放的交易,返回order数组，每个Order对象有\n",
    "        order_id, symbol, price, amount, account_type, created_timestamp, order_type, filled_amount, filled_cash_amount, filled_fees, source, state\n",
    "        \"\"\"\n",
    "\n",
    "    def get_order_recent_48hour(self,symbol=None, start_time=None, end_time=None, size=None, direct=None):\n",
    "        \"\"\"\n",
    "        获取自己账户48小时内的交易记录，返回order数组\n",
    "        \"\"\"\n",
    "\n",
    "    def get_price_depth(self,symbol,size):\n",
    "        \"\"\"\n",
    "        获取当前市场的交易深度，symbol 为交易对，size为头部的几个交易，一个用例如下\n",
    "        i = 0\n",
    "        for entry in depth.bids:\n",
    "            i = i + 1\n",
    "            print(str(i) + \": price: \" + str(entry.price) + \", amount: \" + str(entry.amount))\n",
    "\n",
    "        i = 0\n",
    "        for entry in depth.asks:\n",
    "            i = i + 1\n",
    "            print(str(i) + \": price: \" + str(entry.price) + \", amount: \" + str(entry.amount))\n",
    "        \"\"\"\n",
    "\n",
    "\n",
    "    def order(self, symbol=\"btcusdt\", account_type=AccountType.SPOT, order_type=OrderType.SELL_LIMIT, amount=1.0, price=None, stop_price=None, operator=None):\n",
    "        \"\"\"\n",
    "        下单函数，谨慎使用\n",
    "        必须提供的参数为symbol,account_type,order_type,amount\n",
    "        param: account_type  账户类型，包括有SPOT MARGIN OTC POINT \n",
    "        param: order_type 订单类型，包括有SELL_LIMIT BUY_LIMIT BUY_MARKET SELL_MARKET BUY_IOC SELL_IOC\n",
    "        \"\"\"\n",
    "\n",
    "\n",
    "    def cancle_order(self, symbol=\"btcusdt\", order_id=\"00000\"):\n",
    "        \"\"\"\n",
    "        取消某笔订单\n",
    "        \"\"\"\n",
    "\n",
    "\n",
    "    def get_order(self, symbol=\"btcusdt\", order_id=\"000000\"):\n",
    "        \"\"\"\n",
    "        根据order_id获取某笔交易,每个Order对象有\n",
    "        order_id, symbol, price, amount, account_type, created_timestamp, order_type, filled_amount, filled_cash_amount, filled_fees, source, state\n",
    "        \"\"\"\n",
    "\n",
    "    def get_order_by_client_order_id(self):\n",
    "        \"\"\"\n",
    "        根据client_order_id来获取订单, 每个Order对象有\n",
    "        order_id, symbol, price, amount, account_type, created_timestamp, order_type, filled_amount, filled_cash_amount, filled_fees, source, state\n",
    "        \"\"\"\n",
    "\n",
    "\n",
    "    def cancel_client_order(self):\n",
    "        \"\"\"\n",
    "        根据client_order_id取消某笔交易\n",
    "        \"\"\"\n",
    "```"
   ]
  },
  {
   "attachments": {},
   "cell_type": "markdown",
   "metadata": {},
   "source": [
    "<h2>使用火币api进行交易</h2>\n",
    "<h3>获取火币交易key</h3>\n",
    "进入火币账户，点击创建api，如下。你可以根据自己的需求来选择这个api的功能，例如你要交易的话，那个交易的勾必须打上才行。\n",
    "\n",
    "![title](img/paper5/1.png)"
   ]
  },
  {
   "cell_type": "markdown",
   "metadata": {},
   "source": [
    "获取到密钥后，在C:\\Users\\你的用户名\\qsq\\config\\config.ini中添加如下内容\n",
    "```bash\n",
    "[huobi]\n",
    "huobiapi_key=***\n",
    "huobisecret_key=***\n",
    "client_order_id=12345678\n",
    "```\n",
    "把你获取到的key填到对应位置，这里的client_order_id则是每次交易都需要改变下，每个交易都需要一个不同的id。后面使用QsHuobi类的时候我们动态调整那个对应的类变量就行。"
   ]
  },
  {
   "cell_type": "markdown",
   "metadata": {},
   "source": [
    "<h3>进行交易</h3>\n",
    "接下来就是实操了，调用order函数来进行交易。恰好我账户里面有几个跌的快归零的比原，所以就用他们来试着交易下。"
   ]
  },
  {
   "cell_type": "code",
   "execution_count": 2,
   "metadata": {},
   "outputs": [
    {
     "ename": "HuobiApiException",
     "evalue": "('KeyMissing', '[User] Key is empty or null')",
     "output_type": "error",
     "traceback": [
      "\u001b[1;31m---------------------------------------------------------------------------\u001b[0m",
      "\u001b[1;31mHuobiApiException\u001b[0m                         Traceback (most recent call last)",
      "\u001b[1;32m<ipython-input-2-82745799ee3e>\u001b[0m in \u001b[0;36m<module>\u001b[1;34m\u001b[0m\n\u001b[0;32m      9\u001b[0m \u001b[0mqshuobi\u001b[0m \u001b[1;33m=\u001b[0m \u001b[0mQsHuobi\u001b[0m\u001b[1;33m(\u001b[0m\u001b[1;33m)\u001b[0m\u001b[1;33m\u001b[0m\u001b[1;33m\u001b[0m\u001b[0m\n\u001b[0;32m     10\u001b[0m \u001b[1;33m\u001b[0m\u001b[0m\n\u001b[1;32m---> 11\u001b[1;33m \u001b[0morder_id\u001b[0m \u001b[1;33m=\u001b[0m \u001b[0mqshuobi\u001b[0m\u001b[1;33m.\u001b[0m\u001b[0morder\u001b[0m\u001b[1;33m(\u001b[0m\u001b[0msymbol\u001b[0m\u001b[1;33m=\u001b[0m\u001b[1;34m\"btmbtc\"\u001b[0m\u001b[1;33m,\u001b[0m \u001b[0maccount_type\u001b[0m\u001b[1;33m=\u001b[0m\u001b[0mAccountType\u001b[0m\u001b[1;33m.\u001b[0m\u001b[0mSPOT\u001b[0m\u001b[1;33m,\u001b[0m \u001b[0morder_type\u001b[0m\u001b[1;33m=\u001b[0m\u001b[0mOrderType\u001b[0m\u001b[1;33m.\u001b[0m\u001b[0mSELL_MARKET\u001b[0m\u001b[1;33m,\u001b[0m \u001b[0mamount\u001b[0m\u001b[1;33m=\u001b[0m\u001b[1;36m10\u001b[0m\u001b[1;33m)\u001b[0m\u001b[1;33m\u001b[0m\u001b[1;33m\u001b[0m\u001b[0m\n\u001b[0m\u001b[0;32m     12\u001b[0m \u001b[0mprint\u001b[0m\u001b[1;33m(\u001b[0m\u001b[1;34m\"after order, we have order id: \"\u001b[0m \u001b[1;33m+\u001b[0m \u001b[0mstr\u001b[0m\u001b[1;33m(\u001b[0m\u001b[0morder_id\u001b[0m\u001b[1;33m)\u001b[0m\u001b[1;33m)\u001b[0m\u001b[1;33m\u001b[0m\u001b[1;33m\u001b[0m\u001b[0m\n",
      "\u001b[1;32mC:\\Work\\Projects\\Finance\\code\\qsq\\qsq\\ThirdptQs\\QsHuobi.py\u001b[0m in \u001b[0;36morder\u001b[1;34m(self, symbol, account_type, order_type, amount, price, stop_price, operator)\u001b[0m\n\u001b[0;32m    143\u001b[0m         \u001b[0mparam\u001b[0m\u001b[1;33m:\u001b[0m \u001b[0morder_type\u001b[0m \u001b[0m订单类型\u001b[0m\u001b[0;31m，\u001b[0m\u001b[0m包括有SELL_LIMIT\u001b[0m \u001b[0mBUY_LIMIT\u001b[0m \u001b[0mBUY_MARKET\u001b[0m \u001b[0mSELL_MARKET\u001b[0m \u001b[0mBUY_IOC\u001b[0m \u001b[0mSELL_IOC\u001b[0m\u001b[1;33m\u001b[0m\u001b[1;33m\u001b[0m\u001b[0m\n\u001b[0;32m    144\u001b[0m         \"\"\"\n\u001b[1;32m--> 145\u001b[1;33m         \u001b[0morder_id\u001b[0m \u001b[1;33m=\u001b[0m \u001b[0mself\u001b[0m\u001b[1;33m.\u001b[0m\u001b[0mrequest_client\u001b[0m\u001b[1;33m.\u001b[0m\u001b[0mcreate_order\u001b[0m\u001b[1;33m(\u001b[0m\u001b[0msymbol\u001b[0m\u001b[1;33m,\u001b[0m \u001b[0maccount_type\u001b[0m\u001b[1;33m,\u001b[0m \u001b[0morder_type\u001b[0m\u001b[1;33m,\u001b[0m \u001b[0mamount\u001b[0m\u001b[1;33m,\u001b[0m \u001b[0mprice\u001b[0m\u001b[1;33m,\u001b[0m \u001b[0mself\u001b[0m\u001b[1;33m.\u001b[0m\u001b[0mclient_order_id\u001b[0m\u001b[1;33m,\u001b[0m \u001b[0mstop_price\u001b[0m\u001b[1;33m,\u001b[0m \u001b[0moperator\u001b[0m\u001b[1;33m)\u001b[0m\u001b[1;33m\u001b[0m\u001b[1;33m\u001b[0m\u001b[0m\n\u001b[0m\u001b[0;32m    146\u001b[0m         \u001b[1;32mreturn\u001b[0m \u001b[0morder_id\u001b[0m\u001b[1;33m\u001b[0m\u001b[1;33m\u001b[0m\u001b[0m\n\u001b[0;32m    147\u001b[0m \u001b[1;33m\u001b[0m\u001b[0m\n",
      "\u001b[1;32mC:\\Software\\Anaconda3\\lib\\site-packages\\huobi_client-1.0.1-py3.7.egg\\huobi\\requstclient.py\u001b[0m in \u001b[0;36mcreate_order\u001b[1;34m(self, symbol, account_type, order_type, amount, price, client_order_id, stop_price, operator)\u001b[0m\n\u001b[0;32m    295\u001b[0m         \u001b[1;33m:\u001b[0m\u001b[1;32mreturn\u001b[0m\u001b[1;33m:\u001b[0m \u001b[0mThe\u001b[0m \u001b[0morder\u001b[0m \u001b[0mid\u001b[0m\u001b[1;33m.\u001b[0m\u001b[1;33m\u001b[0m\u001b[1;33m\u001b[0m\u001b[0m\n\u001b[0;32m    296\u001b[0m         \"\"\"\n\u001b[1;32m--> 297\u001b[1;33m         \u001b[1;32mreturn\u001b[0m \u001b[0mcall_sync\u001b[0m\u001b[1;33m(\u001b[0m\u001b[0mself\u001b[0m\u001b[1;33m.\u001b[0m\u001b[0mrequest_impl\u001b[0m\u001b[1;33m.\u001b[0m\u001b[0mcreate_order\u001b[0m\u001b[1;33m(\u001b[0m\u001b[0msymbol\u001b[0m\u001b[1;33m,\u001b[0m \u001b[0maccount_type\u001b[0m\u001b[1;33m,\u001b[0m \u001b[0morder_type\u001b[0m\u001b[1;33m,\u001b[0m \u001b[0mamount\u001b[0m\u001b[1;33m,\u001b[0m \u001b[0mprice\u001b[0m\u001b[1;33m,\u001b[0m \u001b[0mclient_order_id\u001b[0m\u001b[1;33m,\u001b[0m \u001b[0mstop_price\u001b[0m\u001b[1;33m,\u001b[0m \u001b[0moperator\u001b[0m\u001b[1;33m)\u001b[0m\u001b[1;33m)\u001b[0m\u001b[1;33m\u001b[0m\u001b[1;33m\u001b[0m\u001b[0m\n\u001b[0m\u001b[0;32m    298\u001b[0m \u001b[1;33m\u001b[0m\u001b[0m\n\u001b[0;32m    299\u001b[0m     def get_open_orders(self, symbol: 'str', account_type: 'AccountType', side: 'OrderSide' = None,\n",
      "\u001b[1;32mC:\\Software\\Anaconda3\\lib\\site-packages\\huobi_client-1.0.1-py3.7.egg\\huobi\\impl\\restapirequestimpl.py\u001b[0m in \u001b[0;36mcreate_order\u001b[1;34m(self, symbol, account_type, order_type, amount, price, client_order_id, stop_price, operator)\u001b[0m\n\u001b[0;32m    464\u001b[0m             \u001b[0mcheck_should_none\u001b[0m\u001b[1;33m(\u001b[0m\u001b[0mprice\u001b[0m\u001b[1;33m,\u001b[0m \u001b[1;34m\"price\"\u001b[0m\u001b[1;33m)\u001b[0m\u001b[1;33m\u001b[0m\u001b[1;33m\u001b[0m\u001b[0m\n\u001b[0;32m    465\u001b[0m         \u001b[1;32mglobal\u001b[0m \u001b[0maccount_info_map\u001b[0m\u001b[1;33m\u001b[0m\u001b[1;33m\u001b[0m\u001b[0m\n\u001b[1;32m--> 466\u001b[1;33m         \u001b[0muser\u001b[0m \u001b[1;33m=\u001b[0m \u001b[0maccount_info_map\u001b[0m\u001b[1;33m.\u001b[0m\u001b[0mget_user\u001b[0m\u001b[1;33m(\u001b[0m\u001b[0mself\u001b[0m\u001b[1;33m.\u001b[0m\u001b[0m__api_key\u001b[0m\u001b[1;33m)\u001b[0m\u001b[1;33m\u001b[0m\u001b[1;33m\u001b[0m\u001b[0m\n\u001b[0m\u001b[0;32m    467\u001b[0m         \u001b[0maccount\u001b[0m \u001b[1;33m=\u001b[0m \u001b[0muser\u001b[0m\u001b[1;33m.\u001b[0m\u001b[0mget_account_by_type\u001b[0m\u001b[1;33m(\u001b[0m\u001b[0maccount_type\u001b[0m\u001b[1;33m)\u001b[0m\u001b[1;33m\u001b[0m\u001b[1;33m\u001b[0m\u001b[0m\n\u001b[0;32m    468\u001b[0m         \u001b[0msource\u001b[0m \u001b[1;33m=\u001b[0m \u001b[0mRestApiRequestImpl\u001b[0m\u001b[1;33m.\u001b[0m\u001b[0morder_source_desc\u001b[0m\u001b[1;33m(\u001b[0m\u001b[0maccount_type\u001b[0m\u001b[1;33m)\u001b[0m\u001b[1;33m\u001b[0m\u001b[1;33m\u001b[0m\u001b[0m\n",
      "\u001b[1;32mC:\\Software\\Anaconda3\\lib\\site-packages\\huobi_client-1.0.1-py3.7.egg\\huobi\\impl\\accountinfomap.py\u001b[0m in \u001b[0;36mget_user\u001b[1;34m(self, api_key)\u001b[0m\n\u001b[0;32m     16\u001b[0m     \u001b[1;32mdef\u001b[0m \u001b[0mget_user\u001b[0m\u001b[1;33m(\u001b[0m\u001b[0mself\u001b[0m\u001b[1;33m,\u001b[0m \u001b[0mapi_key\u001b[0m\u001b[1;33m)\u001b[0m\u001b[1;33m:\u001b[0m\u001b[1;33m\u001b[0m\u001b[1;33m\u001b[0m\u001b[0m\n\u001b[0;32m     17\u001b[0m         \u001b[1;32mif\u001b[0m \u001b[0mapi_key\u001b[0m \u001b[1;32mis\u001b[0m \u001b[1;32mNone\u001b[0m \u001b[1;32mor\u001b[0m \u001b[0mapi_key\u001b[0m \u001b[1;33m==\u001b[0m \u001b[1;34m\"\"\u001b[0m\u001b[1;33m:\u001b[0m\u001b[1;33m\u001b[0m\u001b[1;33m\u001b[0m\u001b[0m\n\u001b[1;32m---> 18\u001b[1;33m             \u001b[1;32mraise\u001b[0m \u001b[0mHuobiApiException\u001b[0m\u001b[1;33m(\u001b[0m\u001b[0mHuobiApiException\u001b[0m\u001b[1;33m.\u001b[0m\u001b[0mKEY_MISSING\u001b[0m\u001b[1;33m,\u001b[0m \u001b[1;34m\"[User] Key is empty or null\"\u001b[0m\u001b[1;33m)\u001b[0m\u001b[1;33m\u001b[0m\u001b[1;33m\u001b[0m\u001b[0m\n\u001b[0m\u001b[0;32m     19\u001b[0m         \u001b[1;32mif\u001b[0m \u001b[0mapi_key\u001b[0m \u001b[1;32mnot\u001b[0m \u001b[1;32min\u001b[0m \u001b[0mself\u001b[0m\u001b[1;33m.\u001b[0m\u001b[0muser_map\u001b[0m\u001b[1;33m:\u001b[0m\u001b[1;33m\u001b[0m\u001b[1;33m\u001b[0m\u001b[0m\n\u001b[0;32m     20\u001b[0m             \u001b[1;32mraise\u001b[0m \u001b[0mHuobiApiException\u001b[0m\u001b[1;33m(\u001b[0m\u001b[0mHuobiApiException\u001b[0m\u001b[1;33m.\u001b[0m\u001b[0mRUNTIME_ERROR\u001b[0m\u001b[1;33m,\u001b[0m \u001b[1;34m\"[User] Cannot found user by key: \"\u001b[0m \u001b[1;33m+\u001b[0m \u001b[0mapi_key\u001b[0m\u001b[1;33m)\u001b[0m\u001b[1;33m\u001b[0m\u001b[1;33m\u001b[0m\u001b[0m\n",
      "\u001b[1;31mHuobiApiException\u001b[0m: ('KeyMissing', '[User] Key is empty or null')"
     ]
    }
   ],
   "source": [
    "import os\n",
    "import sys\n",
    "# 使用insert 0即只使用github，避免交叉使用了pip安装的abupy，导致的版本不一致问题\n",
    "sys.path.insert(0, os.path.abspath('../'))\n",
    "\n",
    "from qsq import QsHuobi\n",
    "from huobi.model import *\n",
    "\n",
    "qshuobi = QsHuobi()\n",
    "\n",
    "order_id = qshuobi.order(symbol=\"btmbtc\", account_type=AccountType.SPOT, order_type=OrderType.SELL_MARKET, amount=10)\n",
    "print(\"after order, we have order id: \" + str(order_id))"
   ]
  },
  {
   "cell_type": "markdown",
   "metadata": {},
   "source": [
    "<h3>查看交易结果</h3>"
   ]
  },
  {
   "cell_type": "markdown",
   "metadata": {},
   "source": [
    "这个时候登陆我们的账户看下交易。\n",
    "\n",
    "![title](img/paper5/2.png)\n",
    "\n",
    "我们成功用火币api完成了一次交易，即将走上量化交易实现财富自由的白日梦了！"
   ]
  },
  {
   "cell_type": "markdown",
   "metadata": {},
   "source": [
    "<h2>总结</h2>\n",
    "这次我们实现了火币的api接口和自动交易。然而，先前我实现的几个策略并没有得到比较好的优化，所以后面的文章中，我会对先前的策略或者一些新的策略进行更深入的研究，然后进行实战。"
   ]
  }
 ],
 "metadata": {
  "kernelspec": {
   "display_name": "Python 3",
   "language": "python",
   "name": "python3"
  },
  "language_info": {
   "codemirror_mode": {
    "name": "ipython",
    "version": 3
   },
   "file_extension": ".py",
   "mimetype": "text/x-python",
   "name": "python",
   "nbconvert_exporter": "python",
   "pygments_lexer": "ipython3",
   "version": "3.7.3"
  },
  "toc": {
   "base_numbering": 1,
   "nav_menu": {},
   "number_sections": true,
   "sideBar": true,
   "skip_h1_title": false,
   "title_cell": "Table of Contents",
   "title_sidebar": "Contents",
   "toc_cell": false,
   "toc_position": {},
   "toc_section_display": true,
   "toc_window_display": false
  }
 },
 "nbformat": 4,
 "nbformat_minor": 2
}
